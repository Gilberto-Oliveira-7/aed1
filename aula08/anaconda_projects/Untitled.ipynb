{
 "cells": [
  {
   "cell_type": "code",
   "execution_count": 13,
   "id": "21746121-30ad-43b7-83cd-318b466d78cb",
   "metadata": {},
   "outputs": [
    {
     "name": "stdin",
     "output_type": "stream",
     "text": [
      "Escolha um numero entre 1 e 50? 40\n"
     ]
    },
    {
     "name": "stdout",
     "output_type": "stream",
     "text": [
      "O numero sorteado é MAIOR!\n"
     ]
    },
    {
     "name": "stdin",
     "output_type": "stream",
     "text": [
      "Escolha um numero entre 1 e 50? 45\n"
     ]
    },
    {
     "name": "stdout",
     "output_type": "stream",
     "text": [
      "O numero sorteado é MENOR!\n"
     ]
    },
    {
     "name": "stdin",
     "output_type": "stream",
     "text": [
      "Escolha um numero entre 1 e 50? 42\n"
     ]
    },
    {
     "name": "stdout",
     "output_type": "stream",
     "text": [
      "O numero sorteado é MAIOR!\n"
     ]
    },
    {
     "name": "stdin",
     "output_type": "stream",
     "text": [
      "Escolha um numero entre 1 e 50? 43\n"
     ]
    },
    {
     "name": "stdout",
     "output_type": "stream",
     "text": [
      "O numero sorteado é MAIOR!\n"
     ]
    },
    {
     "name": "stdin",
     "output_type": "stream",
     "text": [
      "Escolha um numero entre 1 e 50? 44\n"
     ]
    },
    {
     "name": "stdout",
     "output_type": "stream",
     "text": [
      "Parabens você acertou!\n"
     ]
    }
   ],
   "source": [
    "#Sorteando numero aleatório e tentando acertar em 5 tentativas\n",
    "\n",
    "from random import randint \n",
    "num = randint(1, 50) \n",
    "\n",
    "#Defini quantas tentativas o usuario terá\n",
    "tentativas = 5\n",
    "for i in range(tentativas): \n",
    "    \n",
    "#Recebe palpite do usuario    \n",
    "    num_user = int(input(f\"Escolha um numero entre 1 e 50?\"))\n",
    "\n",
    "#Compara palpite do usuario com numero sorteado e retorna a informação se maior, menor ou acertou\n",
    "    if num_user == num:\n",
    "        print(f\"Parabens você acertou!\")\n",
    "        break\n",
    "    elif num_user < num:\n",
    "        print(f\"O numero sorteado é MAIOR!\")\n",
    "    else:\n",
    "        print(f\"O numero sorteado é MENOR!\")\n",
    "else: \n",
    "    print(f\"Acabou o numero sorteado foi: {num}.\")"
   ]
  },
  {
   "cell_type": "code",
   "execution_count": null,
   "id": "be97523d-15d5-4a15-8b03-b4677f86ecf0",
   "metadata": {},
   "outputs": [],
   "source": []
  }
 ],
 "metadata": {
  "kernelspec": {
   "display_name": "Python [conda env:base] *",
   "language": "python",
   "name": "conda-base-py"
  },
  "language_info": {
   "codemirror_mode": {
    "name": "ipython",
    "version": 3
   },
   "file_extension": ".py",
   "mimetype": "text/x-python",
   "name": "python",
   "nbconvert_exporter": "python",
   "pygments_lexer": "ipython3",
   "version": "3.12.7"
  }
 },
 "nbformat": 4,
 "nbformat_minor": 5
}
